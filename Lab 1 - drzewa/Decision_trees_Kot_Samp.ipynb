{
 "cells": [
  {
   "cell_type": "markdown",
   "source": [
    "# Lab 1 - drzewa decyzyjne\n",
    "*\"pro\" version*\n",
    "\n",
    "Autorstwa:\n",
    "- Wojciech Kot  151879\n",
    "- Julia Samp    151775\n",
    "z grupy L7, zajęcia piątkowe 11:45"
   ],
   "metadata": {
    "collapsed": false
   }
  },
  {
   "cell_type": "markdown",
   "source": [
    "Step - by - step - Wersja podstawowa (pro znajduje się poniżej)"
   ],
   "metadata": {
    "collapsed": false
   }
  },
  {
   "cell_type": "code",
   "execution_count": 2,
   "outputs": [],
   "source": [
    "import pandas\n",
    "\n",
    "def prepare_pandas_df_for_basic_problem(path):\n",
    "    data = pandas.read_csv(path)\n",
    "    data = data.drop(['PassengerId', 'Name'], axis=1)\n",
    "    data['Age'] = pandas.cut(data['Age'], bins=[0, 20, 40, 100], labels=['young', 'middle', 'old'], right=True)\n",
    "    return data\n",
    "\n",
    "# wariant bazowy, a więc wgrywamy do dataframe'u (bo już używamy pandas do czytania csv, żeby nie robić tego na piechotę)\n",
    "# dane, z których wyrzucamy niepotrzebne kolumny PassengerId oraz Name, a następnie mapujemy wiek na 3 zmienne young, middle i old\n",
    "#"
   ],
   "metadata": {
    "collapsed": false
   }
  },
  {
   "cell_type": "code",
   "execution_count": 2,
   "outputs": [],
   "source": [],
   "metadata": {
    "collapsed": false
   }
  }
 ],
 "metadata": {
  "kernelspec": {
   "display_name": "Python 3",
   "language": "python",
   "name": "python3"
  },
  "language_info": {
   "codemirror_mode": {
    "name": "ipython",
    "version": 2
   },
   "file_extension": ".py",
   "mimetype": "text/x-python",
   "name": "python",
   "nbconvert_exporter": "python",
   "pygments_lexer": "ipython2",
   "version": "2.7.6"
  }
 },
 "nbformat": 4,
 "nbformat_minor": 0
}
