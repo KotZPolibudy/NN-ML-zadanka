{
 "cells": [
  {
   "cell_type": "markdown",
   "source": [
    "# Lab 1 - drzewa decyzyjne\n",
    "*\"pro\" version*\n",
    "\n",
    "Autorstwa:\n",
    "- Wojciech Kot  151879\n",
    "- Julia Samp    151775\n",
    "z grupy L7, zajęcia piątkowe 11:45"
   ],
   "metadata": {
    "collapsed": false
   }
  },
  {
   "cell_type": "markdown",
   "source": [
    "--- workspace - usunąć przed wysłaniem ---\n",
    "• entropy calculation,\n",
    "• conditional entropy calculation,\n",
    "• information gain calculation,\n",
    "• gain ratio calculation,\n",
    "• simple drawing of a decision tree (there can be really primitive way of\n",
    "drawing or usage of any ready package to do only this drawing) with the\n",
    "information how many examples of each class are in each leaf.\n",
    "\n",
    "\n",
    "- biblioteka treelib może być przydatna"
   ],
   "metadata": {
    "collapsed": false
   }
  },
  {
   "cell_type": "code",
   "execution_count": 2,
   "outputs": [
    {
     "name": "stdout",
     "output_type": "stream",
     "text": [
      "0.9182958340544896\n"
     ]
    }
   ],
   "source": [
    "# kod\n",
    "import math\n",
    "\n",
    "def entropia(lista):\n",
    "    e = 0\n",
    "    suma = sum(lista)\n",
    "    for i in lista:\n",
    "        e -= (i/suma) * math.log(i/suma, 2)\n",
    "    return e\n",
    "\n",
    "print(entropia([2, 4]))\n"
   ],
   "metadata": {
    "collapsed": false
   }
  },
  {
   "cell_type": "code",
   "execution_count": 2,
   "outputs": [],
   "source": [],
   "metadata": {
    "collapsed": false
   }
  }
 ],
 "metadata": {
  "kernelspec": {
   "display_name": "Python 3",
   "language": "python",
   "name": "python3"
  },
  "language_info": {
   "codemirror_mode": {
    "name": "ipython",
    "version": 2
   },
   "file_extension": ".py",
   "mimetype": "text/x-python",
   "name": "python",
   "nbconvert_exporter": "python",
   "pygments_lexer": "ipython2",
   "version": "2.7.6"
  }
 },
 "nbformat": 4,
 "nbformat_minor": 0
}
