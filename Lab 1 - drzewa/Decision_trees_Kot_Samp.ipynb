{
 "cells": [
  {
   "cell_type": "markdown",
   "source": [
    "# Lab 1 - drzewa decyzyjne\n",
    "*\"pro\" version*\n",
    "\n",
    "Autorstwa:\n",
    "- Wojciech Kot  151879\n",
    "- Julia Samp    151775\n",
    "z grupy L7, zajęcia piątkowe 11:45"
   ],
   "metadata": {
    "collapsed": false
   }
  },
  {
   "cell_type": "markdown",
   "source": [
    "Step - by - step - Wersja podstawowa (pro znajduje się poniżej)\n",
    "\n",
    "Wpierw, wgranie danych do dataframe'u zapewnianego przez pandas\n",
    "(ze względu na wygodę, jaką zapewnia oraz obsługę .csv)"
   ],
   "metadata": {
    "collapsed": false
   }
  },
  {
   "cell_type": "code",
   "execution_count": 139,
   "outputs": [
    {
     "name": "stdout",
     "output_type": "stream",
     "text": [
      "    Pclass     Sex     Age  SibSp  Parch  Survived\n",
      "0        3    male  middle      1      0         0\n",
      "1        1  female  middle      1      0         1\n",
      "2        3  female  middle      0      0         1\n",
      "3        1  female  middle      1      0         1\n",
      "4        3    male  middle      0      0         0\n",
      "..     ...     ...     ...    ...    ...       ...\n",
      "95       3    male     old      0      0         0\n",
      "96       1    male     old      0      0         0\n",
      "97       1    male  middle      0      1         1\n",
      "98       2  female  middle      0      1         1\n",
      "99       2    male  middle      1      0         0\n",
      "\n",
      "[100 rows x 6 columns]\n"
     ]
    }
   ],
   "source": [
    "import pandas\n",
    "\n",
    "\n",
    "def prepare_pandas_df_for_basic_problem(path):\n",
    "    data = pandas.read_csv(path)\n",
    "    data = data.drop(['PassengerId', 'Name'], axis=1)\n",
    "    data['Age'] = pandas.cut(data['Age'], bins=[0, 20, 40, 100], labels=['young', 'middle', 'old'], right=True)\n",
    "    return data\n",
    "\n",
    "\n",
    "dane2 = prepare_pandas_df_for_basic_problem(\"titanic-homework.csv\")\n",
    "print(dane2)"
   ],
   "metadata": {
    "collapsed": false
   }
  },
  {
   "cell_type": "markdown",
   "source": [
    "Kiedy mamy już poprawnie załadowane dane, należy zacząć budować drzewo, jednak najpierw kilka funkcji, które mogą nam się przydać przy obsłudze dataframe'u:"
   ],
   "metadata": {
    "collapsed": false
   }
  },
  {
   "cell_type": "code",
   "execution_count": 140,
   "outputs": [],
   "source": [
    "# Aby wiedzieć ILE i jakie rozgałęzienia będzie miało nasze drzewo, gdy podzielimy na tym atrybucie\n",
    "def possible_values(df, column_name):\n",
    "    # zwraca posortowaną listę unikalnych wartości z danej kolumny\n",
    "    return sorted(df[column_name].unique().tolist())\n",
    "\n",
    "\n",
    "# Filtr odsiewający kolumnę Survived\n",
    "def get_column_names(df):\n",
    "    # zwraca listę kolumn, z wyłączeniem kolumny \"z decyzją\"\n",
    "    return [col for col in df.columns if col != \"Survived\"]\n",
    "\n",
    "\n",
    "# Funkcja zliczająca ile osób przeżyło i ile nie przeżyło, dla danej wartości w danej kolumnie, używana w split()\n",
    "def filter_count(df, column_name, value):\n",
    "    filtered_df = df[df[column_name] == value]\n",
    "    p = int(filtered_df['Survived'].sum())\n",
    "    ile_wszystkich = len(filtered_df)\n",
    "    # zwraca parę [przeżyło, nie-przeżyło]\n",
    "    return [p, ile_wszystkich - p]\n",
    "\n",
    "\n",
    "# Funkcja przygotowująca dane w przypadku podziału na danym atrybucie (danej kolumnie)\n",
    "def split(df, column_name):\n",
    "    l = []\n",
    "    for val in possible_values(df, column_name):\n",
    "        l.append(filter_count(df, column_name, val))\n",
    "    # zwraca listę par [przeżyli, nie-przeżyli], dla każdego atrybutu\n",
    "    return l\n"
   ],
   "metadata": {
    "collapsed": false
   }
  },
  {
   "cell_type": "markdown",
   "source": [
    "A teraz funkcje matematyczne z zajęć, które będą nam potrzebne przy podejmowaniu decyzji podczas budowania drzewa"
   ],
   "metadata": {
    "collapsed": false
   }
  },
  {
   "cell_type": "code",
   "execution_count": 141,
   "outputs": [],
   "source": [
    "import math\n",
    "\n",
    "Podstawowa funkcja licząca entropię. Danymi wejściowymi jest lista list, gdzie listy wewnętrzne mają tylko 2 elementy, np. [[0, 2], [1, 1], [4, 2]].\n",
    "def entropy(dane):\n",
    "    e = 0\n",
    "    suma = sum(dane)\n",
    "    for i in dane:\n",
    "        if i != 0:\n",
    "            e -= (i / suma) * math.log(i / suma, 2)\n",
    "    return e\n",
    "\n",
    "\n",
    "# funkcja obliczająca entropię warunkową z wykorzystaniem zdefiniowanej wcześniej funkcji entropii. Dane wejściowe są identyczne jak w funkcji wyżej.\n",
    "def conditional_entropy(dane):\n",
    "    ce = 0\n",
    "    ile = 0\n",
    "    for i in dane:\n",
    "        ile += sum(i)\n",
    "    for i in dane:\n",
    "        e = entropy(i)\n",
    "        ce += e * sum(i) / ile\n",
    "    return ce\n",
    "\n",
    "\n",
    "# funkcja obliczająca zysk informacyjny przy użyciu dwóch poprzednich funkcji. Forma danych wejściowych jest taka sama jak w poprzednich funkcjach.\n",
    "def information_gain(dane):\n",
    "    y = 0\n",
    "    n = 0\n",
    "    for i in dane:\n",
    "        y += i[0]\n",
    "        n += i[1]\n",
    "    ig = entropy([y, n]) - conditional_entropy(dane)\n",
    "\n",
    "    return ig\n",
    "\n",
    "\n",
    "# funkcja obliczająca gain ratio przy użyciu intrinsic info. Dane wejściowe mają identyczną formę jak w poprzednich funkcjach.\n",
    "def gain_ratio(dane):\n",
    "    ig = information_gain(dane)\n",
    "    ii = 0\n",
    "    ile = 0\n",
    "    for i in dane:\n",
    "        ile += sum(i)\n",
    "    for i in dane:\n",
    "        ii -= (sum(i) / ile) * math.log(sum(i) / ile, 2)\n",
    "    gr = ig/ii\n",
    "    return gr"
   ],
   "metadata": {
    "collapsed": false
   }
  },
  {
   "cell_type": "markdown",
   "source": [
    "Oraz wreszcie główna funkcja służąca do budowy drzewa decyzyjnego:"
   ],
   "metadata": {
    "collapsed": false
   }
  },
  {
   "cell_type": "code",
   "execution_count": 142,
   "outputs": [],
   "source": [
    "def build_tree_with_decision(df, tree, columns, parent=None, parent_id=\"root\"):\n",
    "    # Jeżeli mamy pewną decyzję, to dodajemy liść z tą decyzją\n",
    "    if len(df['Survived'].unique()) == 1:\n",
    "        count_survived = len(df[df['Survived'] == 1])\n",
    "        count_dead = len(df[df['Survived'] == 0])\n",
    "        if df['Survived'].values[0] == 1:\n",
    "            tree.create_node(f\"Survived: {count_survived}\", parent_id, parent=parent)\n",
    "        else:\n",
    "            tree.create_node(f\"Dead: {count_dead}\", parent_id, parent=parent)\n",
    "        return\n",
    "\n",
    "    # Liczymy info-gain dla każdego możliwego w tym momencie podziału\n",
    "    best_gain = 0.0\n",
    "    best_column = None\n",
    "    for column in columns:\n",
    "        ig = information_gain(split(df, column))\n",
    "        if ig > best_gain:\n",
    "            best_gain = ig\n",
    "            best_column = column\n",
    "\n",
    "    # Dodatkowy warunek stopu rekurencji (nigdy nie powinien zajść przy braku sprzecznych danych, ale chroni przed błędami)\n",
    "    if best_gain == 0 or len(columns) == 0:\n",
    "        count_survived = len(df[df['Survived'] == 1])\n",
    "        count_dead = len(df[df['Survived'] == 0])\n",
    "        # Tworzy liść z wynikiem\n",
    "        tree.create_node(f\"Niejednoznaczny wynik (Survived: {count_survived}, Dead: {count_dead})\", parent_id, parent=parent)\n",
    "        return\n",
    "\n",
    "    # kolumnę na podstawię której właśnie dzielimy, usuwamy, przekazując do węzła-dziecka\n",
    "    remaining_columns = columns.copy()\n",
    "    remaining_columns.remove(best_column)\n",
    "    # Nadajemy unikalne node_id, składające się z nazwy atrybutu, na podstawie którego dzielimy (best_column), oraz id węzła-rodzica, tak aby zapewnić unikalność w całym drzewie\n",
    "    node_id = f\"{best_column}_{parent_id}\"\n",
    "\n",
    "    # Zliczamy parametry w danym węźle i dodajemy go do drzewa\n",
    "    count_survived = len(df[df['Survived'] == 1])\n",
    "    count_dead = len(df[df['Survived'] == 0])\n",
    "\n",
    "    # Tutaj dodajemy do drzewa właśnie przetwarzany węzeł\n",
    "    param = parent_id.split('_')[-1]\n",
    "    tree.create_node(f\"{param} - {best_column} (Survived: {count_survived}, Dead: {count_dead})\", node_id, parent=parent)\n",
    "\n",
    "    # Rekurencyjnie budujemy dalej całe drzewo, przekazując do węzła-dziecka parametry pomniejszone o zużyty już parametr, oraz odpowiednio odfiltrowane dane (df i kolumn) oraz swoje id, które użyje do nadania sobie id.\n",
    "    for val in possible_values(df, best_column):\n",
    "        filtered_df = df[df[best_column] == val]\n",
    "        id_for_child = f\"{node_id}_{val}\"\n",
    "        build_tree_with_decision(filtered_df, tree, remaining_columns, node_id, id_for_child)"
   ],
   "metadata": {
    "collapsed": false
   }
  },
  {
   "cell_type": "markdown",
   "source": [
    "Ostatecznie, driver code, czyli wywołanie przygotowanych powyżej funkcji:"
   ],
   "metadata": {
    "collapsed": false
   }
  },
  {
   "cell_type": "code",
   "execution_count": 143,
   "outputs": [
    {
     "name": "stdout",
     "output_type": "stream",
     "text": [
      "root - Sex (Survived: 40, Dead: 60)\n",
      "├── female - SibSp (Survived: 33, Dead: 7)\n",
      "│   ├── 1 - Pclass (Survived: 11, Dead: 4)\n",
      "│   │   ├── 3 - Parch (Survived: 2, Dead: 4)\n",
      "│   │   │   ├── Dead: 4\n",
      "│   │   │   ├── Survived: 1\n",
      "│   │   │   └── Survived: 1\n",
      "│   │   ├── Survived: 4\n",
      "│   │   └── Survived: 5\n",
      "│   ├── 3 - Age (Survived: 2, Dead: 1)\n",
      "│   │   ├── Dead: 1\n",
      "│   │   └── Survived: 2\n",
      "│   ├── Dead: 1\n",
      "│   ├── Dead: 1\n",
      "│   ├── Survived: 1\n",
      "│   └── Survived: 19\n",
      "└── male - Pclass (Survived: 7, Dead: 53)\n",
      "    ├── 1 - Age (Survived: 4, Dead: 9)\n",
      "    │   ├── Dead: 7\n",
      "    │   ├── middle - SibSp (Survived: 3, Dead: 1)\n",
      "    │   │   ├── Dead: 1\n",
      "    │   │   └── Survived: 3\n",
      "    │   └── young - SibSp (Survived: 1, Dead: 1)\n",
      "    │       ├── Dead: 1\n",
      "    │       └── Survived: 1\n",
      "    ├── 2 - Age (Survived: 2, Dead: 7)\n",
      "    │   ├── Dead: 1\n",
      "    │   ├── Dead: 6\n",
      "    │   └── Survived: 2\n",
      "    └── 3 - Parch (Survived: 1, Dead: 37)\n",
      "        ├── 1 - Age (Survived: 1, Dead: 3)\n",
      "        │   ├── Dead: 3\n",
      "        │   └── Survived: 1\n",
      "        ├── Dead: 1\n",
      "        ├── Dead: 1\n",
      "        ├── Dead: 29\n",
      "        └── Dead: 3\n",
      "\n"
     ]
    }
   ],
   "source": [
    "from treelib import Tree\n",
    "\n",
    "dane = prepare_pandas_df_for_basic_problem(\"titanic-homework.csv\")\n",
    "decision_tree = Tree()\n",
    "columns = get_column_names(dane)\n",
    "build_tree_with_decision(dane, decision_tree, columns)\n",
    "print(decision_tree.show(stdout=False))"
   ],
   "metadata": {
    "collapsed": false
   }
  },
  {
   "cell_type": "markdown",
   "source": [
    "# Wersja Pro\n",
    "\n",
    "Większość funkcji pozostaje taka sama, jednak potrzebna jest dodatkowa funkcja, która wyznaczy granice decyzyjne na atrybucie \"Age\""
   ],
   "metadata": {
    "collapsed": false
   }
  },
  {
   "cell_type": "code",
   "execution_count": 144,
   "outputs": [],
   "source": [
    "from itertools import combinations\n",
    "\n",
    "\n",
    "# Wgranie danych do dataframe'u, tym razem bez mapowania Age na sztucznie nałożone granice, ale z sortowaniem po \"Age\" oraz \"Survived\"\n",
    "def prepare_pandas_df(path):\n",
    "    data = pandas.read_csv(path)\n",
    "    data = data.drop(['PassengerId', 'Name'], axis=1)\n",
    "    data = data.sort_values(by=['Age', 'Survived']).reset_index(drop=True)\n",
    "    return data\n",
    "\n",
    "\n",
    "def map_splits_on_data(df, splits):\n",
    "    # Funkcja pomocnicza do przypisania klasy na podstawie progów podziału\n",
    "    def assign_class(age):\n",
    "        for i, split in enumerate(splits):\n",
    "            if age <= split:\n",
    "                return i\n",
    "        return len(splits)  # Jeśli większy niż ostatni próg, przypisz ostatnią klasę\n",
    "\n",
    "    # Zastępujemy wartości w kolumnie \"Age\" przypisanymi klasami (ich numerami)\n",
    "    df['Age'] = df['Age'].apply(assign_class)\n",
    "    return df\n",
    "\n",
    "\n",
    "# Funkcja wyliczająca najlepsze progi podziału dla ciągłej zmiennej \"Age\"\n",
    "def find_best_splits_for_continuous(df, num_classes):\n",
    "    if num_classes <= 1:\n",
    "        return []\n",
    "    if num_classes >= 4:\n",
    "        print(f'To chwilę potrwa, nawet na naszym \"małym\" datasecie num_classes = {num_classes}')\n",
    "\n",
    "    # Określenie potencjalnych progów podziału (średnie wartości między punktami gdzie zmienia się klasa)\n",
    "    potential_splits = []\n",
    "    for i in range(len(df) - 1):\n",
    "        if df['Survived'][i] != df['Survived'][i + 1]:\n",
    "            potential_split = (df['Age'][i] + df['Age'][i + 1]) / 2\n",
    "            potential_splits.append(potential_split)\n",
    "\n",
    "    # Przygotowanie do znalezienia najlepszych progów podziału\n",
    "    best_splits = []\n",
    "    best_gain = -1\n",
    "\n",
    "    # Kombinacje potencjalnych progów (do sprawdzenia brute-force najlepszej kombinacji)\n",
    "    possible_splits = list(combinations(potential_splits, num_classes - 1))\n",
    "    for split_combination in possible_splits:\n",
    "        splits = []\n",
    "        prev_split = 0.0\n",
    "\n",
    "        # Podział na grupy zgodnie z kombinacją progów\n",
    "        for split in split_combination:\n",
    "            current_split = df[(df['Age'] > prev_split) & (df['Age'] <= split)]\n",
    "            counts = [len(current_split[current_split['Survived'] == cls]) for cls in df['Survived'].unique()]\n",
    "            splits.append(counts)\n",
    "            prev_split = split\n",
    "\n",
    "        # Dodanie ostatniego przedziału\n",
    "        last_split = df[df['Age'] > split_combination[-1]]\n",
    "        counts = [len(last_split[last_split['Survived'] == cls]) for cls in df['Survived'].unique()]\n",
    "        splits.append(counts)\n",
    "\n",
    "        # Znalezienie najlepszej kombinacji progów\n",
    "        ig = information_gain(splits)\n",
    "        if ig > best_gain:\n",
    "            best_gain = ig\n",
    "            best_splits = split_combination\n",
    "\n",
    "    return sorted(best_splits)\n"
   ],
   "metadata": {
    "collapsed": false
   }
  },
  {
   "cell_type": "markdown",
   "source": [
    "Driver code dla przypadku pro"
   ],
   "metadata": {
    "collapsed": false
   }
  },
  {
   "cell_type": "code",
   "execution_count": 145,
   "outputs": [
    {
     "name": "stdout",
     "output_type": "stream",
     "text": [
      "root - Sex (Survived: 40, Dead: 60)\n",
      "├── female - SibSp (Survived: 33, Dead: 7)\n",
      "│   ├── 1 - Pclass (Survived: 11, Dead: 4)\n",
      "│   │   ├── 3 - Parch (Survived: 2, Dead: 4)\n",
      "│   │   │   ├── Dead: 4\n",
      "│   │   │   ├── Survived: 1\n",
      "│   │   │   └── Survived: 1\n",
      "│   │   ├── Survived: 4\n",
      "│   │   └── Survived: 5\n",
      "│   ├── 3 - Age (Survived: 2, Dead: 1)\n",
      "│   │   ├── Dead: 1\n",
      "│   │   └── Survived: 2\n",
      "│   ├── Dead: 1\n",
      "│   ├── Dead: 1\n",
      "│   ├── Survived: 1\n",
      "│   └── Survived: 19\n",
      "└── male - Pclass (Survived: 7, Dead: 53)\n",
      "    ├── 1 - SibSp (Survived: 4, Dead: 9)\n",
      "    │   ├── 0 - Age (Survived: 4, Dead: 4)\n",
      "    │   │   ├── 2 - Parch (Survived: 3, Dead: 4)\n",
      "    │   │   │   ├── Niejednoznaczny wynik (Survived: 1, Dead: 1)\n",
      "    │   │   │   └── Niejednoznaczny wynik (Survived: 2, Dead: 3)\n",
      "    │   │   └── Survived: 1\n",
      "    │   ├── Dead: 1\n",
      "    │   └── Dead: 4\n",
      "    ├── 2 - Age (Survived: 2, Dead: 7)\n",
      "    │   ├── Dead: 1\n",
      "    │   ├── Dead: 6\n",
      "    │   └── Survived: 2\n",
      "    └── 3 - Parch (Survived: 1, Dead: 37)\n",
      "        ├── 1 - Age (Survived: 1, Dead: 3)\n",
      "        │   ├── Dead: 3\n",
      "        │   └── Survived: 1\n",
      "        ├── Dead: 1\n",
      "        ├── Dead: 1\n",
      "        ├── Dead: 29\n",
      "        └── Dead: 3\n",
      "\n"
     ]
    }
   ],
   "source": [
    "dane = prepare_pandas_df(\"titanic-homework.csv\")\n",
    "best_splits = find_best_splits_for_continuous(dane, 3)\n",
    "# best_splits = (20, 40)   # Przypadek z wersji na 4.0\n",
    "dane = map_splits_on_data(dane, best_splits)\n",
    "\n",
    "decision_tree = Tree()\n",
    "columns = get_column_names(dane)\n",
    "build_tree_with_decision(dane, decision_tree, columns)\n",
    "print(decision_tree.show(stdout=False))"
   ],
   "metadata": {
    "collapsed": false
   }
  },
  {
   "cell_type": "markdown",
   "source": [
    "W wariancie na 5.0, a więc z progami wybieranymi dynamicznie pod względem information gain można zauważyć, że pojawiają się w drzewie liście z niesprecyzowanymi danymi. Najpewniej jest to efekt dobrania danych w taki sposób, aby wariant na 4.0 takich nie zawierał, ale mogę się mylić."
   ],
   "metadata": {
    "collapsed": false
   }
  }
 ],
 "metadata": {
  "kernelspec": {
   "display_name": "Python 3",
   "language": "python",
   "name": "python3"
  },
  "language_info": {
   "codemirror_mode": {
    "name": "ipython",
    "version": 2
   },
   "file_extension": ".py",
   "mimetype": "text/x-python",
   "name": "python",
   "nbconvert_exporter": "python",
   "pygments_lexer": "ipython2",
   "version": "2.7.6"
  }
 },
 "nbformat": 4,
 "nbformat_minor": 0
}
