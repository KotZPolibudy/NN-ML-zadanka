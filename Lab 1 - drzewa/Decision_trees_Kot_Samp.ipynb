{
 "cells": [
  {
   "cell_type": "markdown",
   "source": [
    "# Lab 1 - drzewa decyzyjne\n",
    "*\"pro\" version*\n",
    "\n",
    "Autorstwa:\n",
    "- Wojciech Kot  151879\n",
    "- Julia Samp    151775\n",
    "z grupy L7, zajęcia piątkowe 11:45"
   ],
   "metadata": {
    "collapsed": false
   }
  },
  {
   "cell_type": "markdown",
   "source": [
    "Step - by - step - Wersja podstawowa (pro znajduje się poniżej)\n",
    "\n",
    "Wpierw, wgranie danych do dataframe'u zapewnianego przez pandas\n",
    "(ze względu na wygodę, jaką zapewnia oraz obsługę .csv)"
   ],
   "metadata": {
    "collapsed": false
   }
  },
  {
   "cell_type": "code",
   "execution_count": 3,
   "outputs": [
    {
     "name": "stdout",
     "output_type": "stream",
     "text": [
      "    Pclass     Sex     Age  SibSp  Parch  Survived\n",
      "0        3    male  middle      1      0         0\n",
      "1        1  female  middle      1      0         1\n",
      "2        3  female  middle      0      0         1\n",
      "3        1  female  middle      1      0         1\n",
      "4        3    male  middle      0      0         0\n",
      "..     ...     ...     ...    ...    ...       ...\n",
      "95       3    male     old      0      0         0\n",
      "96       1    male     old      0      0         0\n",
      "97       1    male  middle      0      1         1\n",
      "98       2  female  middle      0      1         1\n",
      "99       2    male  middle      1      0         0\n",
      "\n",
      "[100 rows x 6 columns]\n"
     ]
    }
   ],
   "source": [
    "import pandas\n",
    "\n",
    "\n",
    "def prepare_pandas_df_for_basic_problem(path):\n",
    "    data = pandas.read_csv(path)\n",
    "    data = data.drop(['PassengerId', 'Name'], axis=1)\n",
    "    data['Age'] = pandas.cut(data['Age'], bins=[0, 20, 40, 100], labels=['young', 'middle', 'old'], right=True)\n",
    "    return data\n",
    "\n",
    "\n",
    "dane2 = prepare_pandas_df_for_basic_problem(\"titanic-homework.csv\")\n",
    "print(dane2)"
   ],
   "metadata": {
    "collapsed": false
   }
  },
  {
   "cell_type": "markdown",
   "source": [
    "Kiedy mamy już poprawnie załadowane dane, należy zacząć budować drzewo, jednak najpierw kilka funkcji, które mogą nam się przydać:\n",
    "\n",
    "possible_values() oraz get_column_names() służą jedynie temu, aby dalszy kod był bardziej czytelny i obsługują dataframe.\n",
    "possible_values zwraca listę wszystkich unikalnych wartości, jakie występują w danej kolumnie (a więc jakie są dostępne dla tego parametru)\n",
    "Get_column_names natomiast, zgodnie ze swoją nazwą, zwraca nazwy kolumn dataframe'u, czyli nasze nazwy parametrów\n",
    "\n",
    "\n",
    "# TODO\n",
    "entropy etc - #todo opisać dalej"
   ],
   "metadata": {
    "collapsed": false
   }
  },
  {
   "cell_type": "code",
   "execution_count": null,
   "outputs": [],
   "source": [
    "import math\n",
    "\n",
    "\n",
    "def possible_values(df, column_name):\n",
    "    return df[column_name].unique().tolist()\n",
    "\n",
    "\n",
    "def get_column_names(df):\n",
    "    return df.columns.tolist()\n",
    "\n",
    "\n",
    "def entropy(lista):\n",
    "    e = 0\n",
    "    suma = sum(lista)\n",
    "    for i in lista:\n",
    "        if i != 0:\n",
    "            e -= (i / suma) * math.log(i / suma, 2)\n",
    "    return e\n",
    "\n",
    "\n",
    "def conditional_entropy(dane):\n",
    "    ce = 0\n",
    "    ile = 0\n",
    "    for i in dane:\n",
    "        ile += sum(i)\n",
    "    for i in dane:\n",
    "        e = entropy(i)\n",
    "        ce += e * sum(i) / ile\n",
    "    return ce\n",
    "\n",
    "\n",
    "def information_gain(dane):\n",
    "    y = 0\n",
    "    n = 0\n",
    "    for i in dane:\n",
    "        y += i[0]\n",
    "        n += i[1]\n",
    "    ig = entropy([y, n]) - conditional_entropy(dane)\n",
    "\n",
    "    return ig\n",
    "\n",
    "\n",
    "def gain_ratio(dane):\n",
    "    ig = information_gain(dane)\n",
    "    ii = 0\n",
    "    ile = 0\n",
    "    for i in dane:\n",
    "        ile += sum(i)\n",
    "    for i in dane:\n",
    "        ii -= (sum(i) / ile) * math.log(sum(i) / ile, 2)\n",
    "    gr = ig/ii\n",
    "    return gr\n",
    "\n",
    "\n",
    "def filter_count(df, column_name, value):\n",
    "    filtered_df = df[df[column_name] == value]\n",
    "    p = int(filtered_df['Survived'].sum())\n",
    "    ile_wszystkich = len(filtered_df)\n",
    "    # zwraca parę [przeżyło, nie-przeżyło]\n",
    "    return [p, ile_wszystkich - p]\n",
    "\n",
    "\n",
    "def split(df, column_name):\n",
    "    l = []\n",
    "    for val in possible_values(df, column_name):\n",
    "        l.append(filter_count(df, column_name, val))\n",
    "    return l"
   ],
   "metadata": {
    "collapsed": false
   }
  },
  {
   "cell_type": "markdown",
   "source": [
    "A tutaj już główny kod programu, czyli po kolei kroki jakie wykonujemy aby zbudować nasze drzewo decyzyjne"
   ],
   "metadata": {
    "collapsed": false
   }
  },
  {
   "cell_type": "code",
   "execution_count": null,
   "outputs": [],
   "source": [
    "# todo - main i takie tam"
   ],
   "metadata": {
    "collapsed": false
   }
  }
 ],
 "metadata": {
  "kernelspec": {
   "display_name": "Python 3",
   "language": "python",
   "name": "python3"
  },
  "language_info": {
   "codemirror_mode": {
    "name": "ipython",
    "version": 2
   },
   "file_extension": ".py",
   "mimetype": "text/x-python",
   "name": "python",
   "nbconvert_exporter": "python",
   "pygments_lexer": "ipython2",
   "version": "2.7.6"
  }
 },
 "nbformat": 4,
 "nbformat_minor": 0
}
