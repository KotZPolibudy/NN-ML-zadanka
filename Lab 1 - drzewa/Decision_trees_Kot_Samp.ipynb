{
 "cells": [
  {
   "cell_type": "markdown",
   "source": [
    "# Lab 1 - drzewa decyzyjne\n",
    "*\"pro\" version*\n",
    "\n",
    "Autorstwa:\n",
    "- Wojciech Kot  151879\n",
    "- Julia Samp    151775\n",
    "z grupy L7, zajęcia piątkowe 11:45"
   ],
   "metadata": {
    "collapsed": false
   }
  },
  {
   "cell_type": "markdown",
   "source": [
    "Step - by - step - Wersja podstawowa (pro znajduje się poniżej)\n",
    "\n",
    "Wpierw, wgranie danych do dataframe'u zapewnianego przez pandas\n",
    "(ze względu na wygodę, jaką zapewnia oraz obsługę .csv)"
   ],
   "metadata": {
    "collapsed": false
   }
  },
  {
   "cell_type": "code",
   "execution_count": 22,
   "outputs": [
    {
     "name": "stdout",
     "output_type": "stream",
     "text": [
      "    Pclass     Sex     Age  SibSp  Parch  Survived\n",
      "0        3    male  middle      1      0         0\n",
      "1        1  female  middle      1      0         1\n",
      "2        3  female  middle      0      0         1\n",
      "3        1  female  middle      1      0         1\n",
      "4        3    male  middle      0      0         0\n",
      "..     ...     ...     ...    ...    ...       ...\n",
      "95       3    male     old      0      0         0\n",
      "96       1    male     old      0      0         0\n",
      "97       1    male  middle      0      1         1\n",
      "98       2  female  middle      0      1         1\n",
      "99       2    male  middle      1      0         0\n",
      "\n",
      "[100 rows x 6 columns]\n"
     ]
    }
   ],
   "source": [
    "import pandas\n",
    "\n",
    "\n",
    "def prepare_pandas_df_for_basic_problem(path):\n",
    "    data = pandas.read_csv(path)\n",
    "    data = data.drop(['PassengerId', 'Name'], axis=1)\n",
    "    data['Age'] = pandas.cut(data['Age'], bins=[0, 20, 40, 100], labels=['young', 'middle', 'old'], right=True)\n",
    "    return data\n",
    "\n",
    "\n",
    "dane2 = prepare_pandas_df_for_basic_problem(\"titanic-homework.csv\")\n",
    "print(dane2)"
   ],
   "metadata": {
    "collapsed": false
   }
  },
  {
   "cell_type": "markdown",
   "source": [
    "Kiedy mamy już poprawnie załadowane dane, należy zacząć budować drzewo, jednak najpierw kilka funkcji, które mogą nam się przydać przy obsłudze dataframe'u:"
   ],
   "metadata": {
    "collapsed": false
   }
  },
  {
   "cell_type": "code",
   "execution_count": 23,
   "outputs": [],
   "source": [
    "# Aby wiedzieć ILE i jakie rozgałęzienia będzie miało nasze drzewo, gdy podzielimy na tym atrybucie\n",
    "def possible_values(df, column_name):\n",
    "    # zwraca posortowaną listę unikalnych wartości z danej kolumny\n",
    "    return sorted(df[column_name].unique().tolist())\n",
    "\n",
    "\n",
    "# Filtr odsiewający kolumnę Survived\n",
    "def get_column_names(df):\n",
    "    # zwraca listę kolumn, z wyłączeniem kolumny \"z decyzją\"\n",
    "    return [col for col in df.columns if col != \"Survived\"]\n",
    "\n",
    "\n",
    "# Funkcja zliczająca ile osób przeżyło i ile nie przeżyło, dla danej wartości w danej kolumnie, używana w split()\n",
    "def filter_count(df, column_name, value):\n",
    "    filtered_df = df[df[column_name] == value]\n",
    "    p = int(filtered_df['Survived'].sum())\n",
    "    ile_wszystkich = len(filtered_df)\n",
    "    # zwraca parę [przeżyło, nie-przeżyło]\n",
    "    return [p, ile_wszystkich - p]\n",
    "\n",
    "\n",
    "# Funkcja przygotowująca dane w przypadku podziału na danym atrybucie (danej kolumnie)\n",
    "def split(df, column_name):\n",
    "    l = []\n",
    "    for val in possible_values(df, column_name):\n",
    "        l.append(filter_count(df, column_name, val))\n",
    "    # zwraca listę par [przeżyli, nie-przeżyli], dla każdego atrybutu\n",
    "    return l\n"
   ],
   "metadata": {
    "collapsed": false
   }
  },
  {
   "cell_type": "markdown",
   "source": [
    "A teraz funkcje matematyczne z zajęć, które będą nam potrzebne przy podejmowaniu decyzji podczas budowania drzewa"
   ],
   "metadata": {
    "collapsed": false
   }
  },
  {
   "cell_type": "code",
   "execution_count": 24,
   "outputs": [],
   "source": [
    "import math\n",
    "\n",
    "def entropy(lista):\n",
    "    e = 0\n",
    "    suma = sum(lista)\n",
    "    for i in lista:\n",
    "        if i != 0:\n",
    "            e -= (i / suma) * math.log(i / suma, 2)\n",
    "    return e\n",
    "\n",
    "\n",
    "def conditional_entropy(dane):\n",
    "    ce = 0\n",
    "    ile = 0\n",
    "    for i in dane:\n",
    "        ile += sum(i)\n",
    "    for i in dane:\n",
    "        e = entropy(i)\n",
    "        ce += e * sum(i) / ile\n",
    "    return ce\n",
    "\n",
    "\n",
    "def information_gain(dane):\n",
    "    y = 0\n",
    "    n = 0\n",
    "    for i in dane:\n",
    "        y += i[0]\n",
    "        n += i[1]\n",
    "    ig = entropy([y, n]) - conditional_entropy(dane)\n",
    "\n",
    "    return ig\n",
    "\n",
    "\n",
    "# Zawiera w sobie IntrinsicInfo??? (chyba) #todo Smoku to Twoja funkcja, opisz proszę swoje rzeczy\n",
    "def gain_ratio(dane):\n",
    "    ig = information_gain(dane)\n",
    "    ii = 0\n",
    "    ile = 0\n",
    "    for i in dane:\n",
    "        ile += sum(i)\n",
    "    for i in dane:\n",
    "        ii -= (sum(i) / ile) * math.log(sum(i) / ile, 2)\n",
    "    gr = ig/ii\n",
    "    return gr"
   ],
   "metadata": {
    "collapsed": false
   }
  },
  {
   "cell_type": "markdown",
   "source": [
    "Oraz wreszcie główna funkcja służąca do budowy drzewa decyzyjnego:"
   ],
   "metadata": {
    "collapsed": false
   }
  },
  {
   "cell_type": "code",
   "execution_count": 25,
   "outputs": [],
   "source": [
    "def build_tree(df, tree, columns, parent=None, parent_id=\"root\"):\n",
    "    best_gain = 0.0\n",
    "    best_column = None\n",
    "\n",
    "    for column in columns:\n",
    "        ig = information_gain(split(df, column))\n",
    "        if ig > best_gain:\n",
    "            best_gain = ig\n",
    "            best_column = column\n",
    "\n",
    "    # warunek stopu rekurencji\n",
    "    if best_gain == 0 or len(columns) == 0:\n",
    "        return\n",
    "\n",
    "    # odfiltrowanie atrybutu, na podstawie którego właśnie dokonaliśmy podziału\n",
    "    remaining_columns = columns.copy()\n",
    "    remaining_columns.remove(best_column)\n",
    "\n",
    "    # unikalne node_id składa się z nazwy kolumny, na jakiej robimy podział w tym rozgałęzieniu, oraz id rodzica w drzewie, ponieważ bez tej drugiej części id nie byłoby unikalne\n",
    "    node_id = f\"{best_column}_{parent_id}\"\n",
    "    tree.create_node(best_column, node_id, parent=parent)\n",
    "\n",
    "    # A tu rekurencyjne wywołanie, aby zbudować całe drzewo, od korzenia aż do liści\n",
    "    for val in possible_values(df, best_column):\n",
    "        filtered_df = df[df[best_column] == val]\n",
    "        child_id = f\"{node_id}_{val}\"\n",
    "        build_tree(filtered_df, tree, remaining_columns, node_id, child_id)\n",
    "\n",
    "\n",
    "# Ta sama funkcja, ale buduje drzewo razem z liśćmi zawierającymi decyzję\n",
    "def build_tree_with_decision(df, tree, columns, parent=None, parent_id=\"root\"):\n",
    "\n",
    "    # Jeśli decyzja jest 100% pewna, to liść\n",
    "    if len(df['Survived'].unique()) == 1:\n",
    "        decision = df['Survived'].values[0]\n",
    "        tree.create_node(f\"{decision}\", parent_id, parent=parent)\n",
    "        return\n",
    "\n",
    "    # reszta funkcji jest dokładnie taka sama\n",
    "    best_gain = 0.0\n",
    "    best_column = None\n",
    "    for column in columns:\n",
    "        ig = information_gain(split(df, column))\n",
    "        if ig > best_gain:\n",
    "            best_gain = ig\n",
    "            best_column = column\n",
    "    if best_gain == 0 or len(columns) == 0:\n",
    "        return\n",
    "    remaining_columns = columns.copy()\n",
    "    remaining_columns.remove(best_column)\n",
    "    node_id = f\"{best_column}_{parent_id}\"\n",
    "    tree.create_node(best_column, node_id, parent=parent)\n",
    "    for val in possible_values(df, best_column):\n",
    "        filtered_df = df[df[best_column] == val]\n",
    "        child_id = f\"{node_id}_{val}\"\n",
    "        build_tree_with_decision(filtered_df, tree, remaining_columns, node_id, child_id)\n"
   ],
   "metadata": {
    "collapsed": false
   }
  },
  {
   "cell_type": "markdown",
   "source": [
    "Ostatecznie, driver code, czyli wywołanie przygotowanych powyżej funkcji:"
   ],
   "metadata": {
    "collapsed": false
   }
  },
  {
   "cell_type": "code",
   "execution_count": 26,
   "outputs": [
    {
     "name": "stdout",
     "output_type": "stream",
     "text": [
      "Sex\n",
      "├── Pclass\n",
      "│   ├── Age\n",
      "│   │   ├── 0\n",
      "│   │   ├── SibSp\n",
      "│   │   │   ├── 0\n",
      "│   │   │   └── 1\n",
      "│   │   └── SibSp\n",
      "│   │       ├── 0\n",
      "│   │       └── 1\n",
      "│   ├── Age\n",
      "│   │   ├── 0\n",
      "│   │   ├── 0\n",
      "│   │   └── 1\n",
      "│   └── Parch\n",
      "│       ├── 0\n",
      "│       ├── 0\n",
      "│       ├── 0\n",
      "│       ├── 0\n",
      "│       └── Age\n",
      "│           ├── 0\n",
      "│           └── 1\n",
      "└── SibSp\n",
      "    ├── 0\n",
      "    ├── 0\n",
      "    ├── 1\n",
      "    ├── 1\n",
      "    ├── Age\n",
      "    │   ├── 0\n",
      "    │   └── 1\n",
      "    └── Pclass\n",
      "        ├── 1\n",
      "        ├── 1\n",
      "        └── Parch\n",
      "            ├── 0\n",
      "            ├── 1\n",
      "            └── 1\n",
      "\n",
      "======Separator======\n",
      "\n",
      "Sex\n",
      "├── Pclass\n",
      "│   ├── Age\n",
      "│   │   ├── SibSp\n",
      "│   │   └── SibSp\n",
      "│   ├── Age\n",
      "│   └── Parch\n",
      "│       └── Age\n",
      "└── SibSp\n",
      "    ├── Age\n",
      "    └── Pclass\n",
      "        └── Parch\n",
      "\n"
     ]
    }
   ],
   "source": [
    "from treelib import Tree\n",
    "\n",
    "dane = prepare_pandas_df_for_basic_problem(\"titanic-homework.csv\")\n",
    "decision_tree = Tree()\n",
    "columns = get_column_names(dane)\n",
    "build_tree_with_decision(dane, decision_tree, columns)\n",
    "print(decision_tree.show(stdout=False))\n",
    "\n",
    "print(\"======Separator======\\n\")\n",
    "\n",
    "decision_tree2 = Tree()\n",
    "build_tree(dane, decision_tree2, columns)\n",
    "print(decision_tree2.show(stdout=False))"
   ],
   "metadata": {
    "collapsed": false
   }
  },
  {
   "cell_type": "markdown",
   "source": [
    "# Wersja Pro\n",
    "\n",
    "Większość funkcji pozostaje taka sama, jednak potrzebna jest dodatkowa funkcja, która wyznaczy granice decyzyjne na atrybucie \"Age\""
   ],
   "metadata": {
    "collapsed": false
   }
  },
  {
   "cell_type": "code",
   "execution_count": 27,
   "outputs": [],
   "source": [
    "# todo"
   ],
   "metadata": {
    "collapsed": false
   }
  }
 ],
 "metadata": {
  "kernelspec": {
   "display_name": "Python 3",
   "language": "python",
   "name": "python3"
  },
  "language_info": {
   "codemirror_mode": {
    "name": "ipython",
    "version": 2
   },
   "file_extension": ".py",
   "mimetype": "text/x-python",
   "name": "python",
   "nbconvert_exporter": "python",
   "pygments_lexer": "ipython2",
   "version": "2.7.6"
  }
 },
 "nbformat": 4,
 "nbformat_minor": 0
}
