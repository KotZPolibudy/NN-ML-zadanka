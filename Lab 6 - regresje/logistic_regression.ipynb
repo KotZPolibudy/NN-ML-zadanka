{
 "cells": [
  {
   "cell_type": "code",
   "execution_count": null,
   "metadata": {},
   "outputs": [],
   "source": [
    "import matplotlib.pyplot as plt\n",
    "import numpy as np\n",
    "import math\n",
    "from sklearn.linear_model import LogisticRegression\n",
    "import pandas as pd"
   ]
  },
  {
   "cell_type": "markdown",
   "metadata": {},
   "source": [
    "## 1. Logistic regression\n",
    "\n",
    "**Question** What is logistic regression? Does it really solve the regression problems?\n",
    "\n",
    "*Nasza odpowiedź*\n",
    "Rozwiązuje problem klasyfikacji binarnej (jedna jest sukcesem a druga jest porażką). Opiera się na dwóch funkcjach, na podstawie której szacujemy prawdopodobieństwo."
   ]
  },
  {
   "cell_type": "markdown",
   "metadata": {},
   "source": [
    "Logistic regression is based on logit function which is a defined as log(odds), where odds is the share of the probability of \"one\" (p) and the probability of \"zero\" (1-p):\n",
    "\n",
    "$$odds(p) = \\frac{p}{1-p}$$ <br/>\n",
    "$$logit(p) = ln(odds(p)) = ln(\\frac{p}{1-p})$$\n",
    "\n",
    "**Example** We take at random one card from full deck of cards. We define success as taking a heart card. What are the values of probability of success, ODDS and logit in this example? <br/>\n",
    "\n",
    "**Task** Generate in python two plots visualising the relation between: \n",
    "* probability and odds\n",
    "* probability and logit\n",
    "\n",
    "What is the value range for thise 3 functions (probability, odds and logit)?"
   ]
  },
  {
   "cell_type": "code",
   "execution_count": null,
   "metadata": {},
   "outputs": [],
   "source": [
    "probabilities = np.linspace(0.01, 0.99, 100)\n",
    "odds = probabilities / (1 - probabilities)\n",
    "logit = np.log(odds)\n",
    "\n",
    "\n",
    "plt.figure(figsize=(12, 6))\n",
    "\n",
    "plt.subplot(1, 2, 1)\n",
    "plt.plot(probabilities, odds, label=\"Odds\", color='b')\n",
    "plt.title(\"Probability and Odds\")\n",
    "plt.xlabel(\"Probability\")\n",
    "plt.ylabel(\"Odds\")\n",
    "plt.grid(True)\n",
    "\n",
    "plt.subplot(1, 2, 2)\n",
    "plt.plot(probabilities, logit, label=\"Logit\", color='r')\n",
    "plt.title(\"Probability and Logit\")\n",
    "plt.xlabel(\"Probability\")\n",
    "plt.ylabel(\"Logit\")\n",
    "plt.grid(True)\n",
    "\n",
    "plt.tight_layout()\n",
    "plt.show()\n"
   ]
  },
  {
   "cell_type": "markdown",
   "metadata": {},
   "source": [
    "## 2. Simple logistic regression\n",
    "Let's start with simple logistic regression - with only one independent variable. We will work on the example from english Wikipedia (https://en.wikipedia.org/wiki/Logistic_regression). We want to build a logistic regression model for estimating probability od passing an exam based on the time spent on studying:\n",
    "\n",
    "\n",
    "|Hours|\t0.50|0.75|1.00|1.25|1.50|1.75|1.75|2.00|2.25|2.50|2.75|3.00|3.25|3.50|4.00|4.25|4.50|4.75|5.00|5.50|\n",
    "|-----|-----|----|----|----|----|----|----|----|----|----|----|----|----|----|----|----|----|----|----|----|\n",
    "|Pass |0    |0   |0   |0   |0   |0   |1   |0   |1   |0   |1   |0   |1   |0   |1   |1   |1   |1   |1   |1   |\n",
    "\n",
    "1 - student passed, 0 - student failed"
   ]
  },
  {
   "cell_type": "code",
   "execution_count": null,
   "metadata": {},
   "outputs": [],
   "source": [
    "hours = np.array([0.5, 0.75, 1, 1.25, 1.5, 1.75, 1.75, 2, 2.25, 2.5, 2.75, 3, 3.25, 3.5, 4, 4.25, 4.5, 4.75, 5, 5.5])\n",
    "passed = np.array([0, 0, 0, 0, 0, 0, 1, 0, 1, 0, 1, 0, 1, 0, 1, 1, 1, 1, 1, 1])\n",
    "plt.figure(figsize=(12, 6))\n",
    "plt.scatter(hours, passed, color='r', label=\"Passed (1) or Failed (0)\")\n",
    "plt.show()"
   ]
  },
  {
   "cell_type": "markdown",
   "metadata": {},
   "source": [
    "Let's use the scatter plot to visualize our data. Can you intuitively find a threshold - after how long studying students usually pass the test?\n",
    "\n",
    "*nasza odpowiedź*\n",
    "\n",
    "powyżej 2.5h uczenia się daje dobre szanse na zdanie, a powyżej 4 daje (niemal) pewność"
   ]
  },
  {
   "cell_type": "code",
   "execution_count": null,
   "metadata": {},
   "outputs": [],
   "source": []
  },
  {
   "cell_type": "markdown",
   "metadata": {},
   "source": [
    "We define the logit function as the linear combination of independent variables. In simple regression case we have only one variable x:\n",
    "\n",
    "$$logit(p) = ln(\\frac{p}{1-p}) = \\beta_0 + \\beta_1\\cdot x,$$\n",
    "so the estimated odds value is equal to:\n",
    "$$\\frac{p}{1-p} = e^{\\beta_0 + \\beta_1\\cdot x}$$.\n",
    "\n",
    "The estimation of $\\beta$ coefficient is being done with the maximum likelihood estimation method (https://online.stat.psu.edu/stat415/lesson/1/1.2).\n",
    "\n",
    "**Task** Use Logistic Regression from scikit learn to obtain the regression coefficients in our problem."
   ]
  },
  {
   "cell_type": "code",
   "execution_count": null,
   "metadata": {},
   "outputs": [],
   "source": [
    "model = LogisticRegression()\n",
    "model.fit(hours.reshape(-1, 1), passed)\n",
    "\n",
    "intercept = model.intercept_[0]\n",
    "coefficient = model.coef_[0][0]\n",
    "\n",
    "print(f\"Intercept: {intercept}\")\n",
    "print(f\"Coefficient: {coefficient}\")"
   ]
  },
  {
   "cell_type": "markdown",
   "metadata": {},
   "source": [
    "**Question** Having the coefficients how can we determine what is the probability that student who studied for 4.25h will pass the test?\n",
    "\n",
    "*Tak, mamy nawet na to podany wyżej wzór. A poniżej zaimplementowaną funkcję!*\n",
    "\n",
    "**Task** Write the body of function which calculates this probability having the $\\beta_0$ and $\\beta_1$ coefficients and the study time (x). Using this function and coefficients obtained with previous task find the answer for previous question (the probability of passing the test after 4.25 hours of studying). <br/>\n",
    "_Tip: np.exp() function can be useful_"
   ]
  },
  {
   "cell_type": "code",
   "execution_count": null,
   "metadata": {},
   "outputs": [],
   "source": [
    "def calculate_probability(beta_0, beta_1, x):\n",
    "    return 1 / (1 + np.exp(-(beta_0 + beta_1 * x)))\n",
    "\n",
    "#TODO fill with regression coefficients from previours task\n",
    "calculate_probability(0, 0, 4.25)"
   ]
  },
  {
   "cell_type": "markdown",
   "metadata": {},
   "source": [
    "**Task** Let's visualize the probability function - p(studying hours), to your previous scatter add a line showing the relation between studying time and the probability of passing. Can you see something interesting about this function? Do you know how this type of function is called?\n",
    "\n",
    "*Sigmoida, Funkcja sigmoidalna -> widać coś na kształt rozciągniętej litery s."
   ]
  },
  {
   "cell_type": "code",
   "execution_count": null,
   "metadata": {},
   "outputs": [],
   "source": [
    "x_values = np.linspace(0, 6, 100)\n",
    "y_values = calculate_probability(intercept, coefficient, x_values)\n",
    "\n",
    "plt.figure(figsize=(12, 6))\n",
    "plt.scatter(hours, passed, color='red', label='Observed Data (Pass=1, Fail=0)')\n",
    "plt.plot(x_values, y_values, color='blue', label='Logistic Function (Probability)', linewidth=2)\n",
    "plt.title(\"Probability of Passing vs Study Hours\")\n",
    "plt.show()"
   ]
  },
  {
   "cell_type": "markdown",
   "metadata": {},
   "source": [
    "Let's check if the probability which we calculated is the same as this returned with out fit logistic regression model from scikit learn. Use predict_proba function to find the probability of studying 4.25h. <br/>\n",
    "_Tip: predict_proba requires 2D array or list of lists as input, so [[4.25]] should be passed_"
   ]
  },
  {
   "cell_type": "code",
   "execution_count": null,
   "metadata": {},
   "outputs": [],
   "source": [
    "study_time = np.array([[4.25]])\n",
    "probabilities = model.predict_proba(study_time)\n",
    "print(probabilities)"
   ]
  },
  {
   "cell_type": "markdown",
   "metadata": {},
   "source": [
    "We may also not want to obtain the probabilities, but just the more probable class (whether student will pass or not). To obtain this class use the predict function on the model:"
   ]
  },
  {
   "cell_type": "code",
   "execution_count": null,
   "metadata": {},
   "outputs": [],
   "source": [
    "prediction = model.predict(study_time)\n",
    "print(prediction) # 1 oznacza passed, 0 oznacza failed"
   ]
  },
  {
   "cell_type": "markdown",
   "metadata": {},
   "source": [
    "## 3. Multiple logistic regression"
   ]
  },
  {
   "cell_type": "markdown",
   "metadata": {},
   "source": [
    "More usual real-world case is to use the multiple logistic regression, when the value of some binary class depends on more than one factor. In this part we will work on the dataset containing data about whether given person is diabetic or not.\n",
    "\n",
    "Let's start with reading the data from \"diabetes_scaled.csv\" file. The data have already been scaled."
   ]
  },
  {
   "cell_type": "code",
   "execution_count": null,
   "metadata": {},
   "outputs": [],
   "source": [
    "data = pd.read_csv(\"diabetes_scaled.csv\")\n",
    "data.head()"
   ]
  },
  {
   "cell_type": "markdown",
   "metadata": {},
   "source": [
    "Firstly, we add the intercept column (value equal to 1 for all rows), just for easier futher analysis."
   ]
  },
  {
   "cell_type": "code",
   "execution_count": null,
   "metadata": {},
   "outputs": [],
   "source": [
    "#done add column\n",
    "data['intercept'] = 1\n",
    "data.head()"
   ]
  },
  {
   "cell_type": "markdown",
   "metadata": {},
   "source": [
    "Next, we divide our data into train and test. Let's just leave last 100 cases in the test set, the remaining ones will be the training examples."
   ]
  },
  {
   "cell_type": "code",
   "execution_count": null,
   "metadata": {},
   "outputs": [],
   "source": [
    "test_data = data.sample(n=100, random_state=00)  # Random 100 rows\n",
    "train_data = data.drop(test_data.index)"
   ]
  },
  {
   "cell_type": "markdown",
   "metadata": {},
   "source": [
    "Use the scikit learn implementation of the logistic regression to build the model on the training set. What are the obtained regression coefficients?"
   ]
  },
  {
   "cell_type": "code",
   "execution_count": null,
   "metadata": {},
   "outputs": [],
   "source": [
    "X_train = train_data.drop(columns=['Class'])\n",
    "y_train = train_data['Class']\n",
    "model = LogisticRegression()\n",
    "model.fit(X_train, y_train)\n",
    "intercept = model.intercept_[0]\n",
    "coefficients = model.coef_[0]\n",
    "print(intercept)\n",
    "print(coefficients)"
   ]
  },
  {
   "cell_type": "markdown",
   "metadata": {},
   "source": [
    "Now, evaluate your model on the test examples. Classify the test examples, find the probabilitiy of diabetes desease for each test case and the overall accuracy score."
   ]
  },
  {
   "cell_type": "code",
   "execution_count": null,
   "metadata": {},
   "outputs": [],
   "source": [
    "from sklearn.metrics import accuracy_score\n",
    "\n",
    "X_test = test_data.drop(columns=['Class'])\n",
    "y_test = test_data['Class']\n",
    "y_pred = model.predict(X_test)\n",
    "y_prob = model.predict_proba(X_test)[:, 1]\n",
    "accuracy = accuracy_score(y_test, y_pred)\n",
    "print(accuracy)"
   ]
  },
  {
   "cell_type": "markdown",
   "metadata": {
    "collapsed": false
   },
   "source": [
    "0.85 accuracy score. Chociaż to może być zawyżone lub zaniżone przez random_state który wybiera dane do zbioru testowego i treningowego ;)"
   ]
  },
  {
   "cell_type": "code",
   "execution_count": null,
   "metadata": {},
   "outputs": [],
   "source": []
  }
 ],
 "metadata": {
  "kernelspec": {
   "display_name": "Python 3",
   "language": "python",
   "name": "python3"
  },
  "language_info": {
   "codemirror_mode": {
    "name": "ipython",
    "version": 3
   },
   "file_extension": ".py",
   "mimetype": "text/x-python",
   "name": "python",
   "nbconvert_exporter": "python",
   "pygments_lexer": "ipython3",
   "version": "3.8.3"
  }
 },
 "nbformat": 4,
 "nbformat_minor": 4
}
